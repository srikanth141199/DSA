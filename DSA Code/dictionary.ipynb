{
 "cells": [
  {
   "cell_type": "code",
   "execution_count": 1,
   "metadata": {},
   "outputs": [
    {
     "name": "stdout",
     "output_type": "stream",
     "text": [
      "{'Sam': 12, 'Deyam': 23, 'Srikanth': 34}\n"
     ]
    }
   ],
   "source": [
    "temp_dict = dict({\n",
    "    'Sam':12,\n",
    "    'Deyam':23,\n",
    "    'Srikanth':34,\n",
    "})\n",
    "\n",
    "print(temp_dict)"
   ]
  },
  {
   "cell_type": "code",
   "execution_count": 2,
   "metadata": {},
   "outputs": [
    {
     "name": "stdout",
     "output_type": "stream",
     "text": [
      "{'Deyam': 12, 'Srikanth': 23, 'Subbu': 34}\n"
     ]
    }
   ],
   "source": [
    "temp_dict2 = dict([\n",
    "    ('Deyam',12),\n",
    "    ('Srikanth',23),\n",
    "    ('Subbu',34)\n",
    "])\n",
    "\n",
    "print(temp_dict2)"
   ]
  },
  {
   "cell_type": "code",
   "execution_count": 3,
   "metadata": {},
   "outputs": [
    {
     "name": "stdout",
     "output_type": "stream",
     "text": [
      "{'Sam': 12, 'Deyam': 23, 'Srikanth': 45}\n"
     ]
    }
   ],
   "source": [
    "temp_dict3 = {\n",
    "    'Sam':12,\n",
    "    'Deyam':23,\n",
    "    'Srikanth':45\n",
    "}\n",
    "print(temp_dict3)"
   ]
  },
  {
   "cell_type": "code",
   "execution_count": 4,
   "metadata": {},
   "outputs": [
    {
     "name": "stdout",
     "output_type": "stream",
     "text": [
      "{'Sam': 1, 'Harry': 1, 'Srikanth': 1}\n"
     ]
    }
   ],
   "source": [
    "keys = ['Sam','Harry','Srikanth']\n",
    "temp_dict4 = dict.fromkeys(keys,1)\n",
    "print(temp_dict4)"
   ]
  },
  {
   "cell_type": "code",
   "execution_count": 5,
   "metadata": {},
   "outputs": [
    {
     "name": "stdout",
     "output_type": "stream",
     "text": [
      "{'Sam': 12, 'Deyam': 23, 'Srikanth': 34, 'Harry': 99}\n",
      "{'Sam': 12, 'Deyam': 23, 'Srikanth': 34, 'Harry': 99}\n",
      "{'Sam': 12, 'Deyam': 23, 'Srikanth': 34, 'Harry': 11}\n"
     ]
    }
   ],
   "source": [
    "temp_dict5 = temp_dict\n",
    "temp_dict6 = temp_dict.copy()\n",
    "temp_dict5['Harry'] = 99\n",
    "temp_dict6['Harry'] = 11\n",
    "print(temp_dict)\n",
    "print(temp_dict5)\n",
    "print(temp_dict6)"
   ]
  },
  {
   "cell_type": "code",
   "execution_count": 6,
   "metadata": {},
   "outputs": [
    {
     "name": "stdout",
     "output_type": "stream",
     "text": [
      "None\n",
      "0\n"
     ]
    }
   ],
   "source": [
    "print(temp_dict6.get('Surya'))\n",
    "print(temp_dict6.get('Surya',0))"
   ]
  },
  {
   "cell_type": "code",
   "execution_count": 7,
   "metadata": {},
   "outputs": [
    {
     "name": "stdout",
     "output_type": "stream",
     "text": [
      "dict_keys(['Sam', 'Deyam', 'Srikanth', 'Harry'])\n"
     ]
    }
   ],
   "source": [
    "print(temp_dict6.keys())"
   ]
  },
  {
   "cell_type": "code",
   "execution_count": 9,
   "metadata": {},
   "outputs": [
    {
     "name": "stdout",
     "output_type": "stream",
     "text": [
      "dict_values([12, 23, 34, 11])\n"
     ]
    }
   ],
   "source": [
    "print(temp_dict6.values())"
   ]
  },
  {
   "cell_type": "code",
   "execution_count": 10,
   "metadata": {},
   "outputs": [
    {
     "name": "stdout",
     "output_type": "stream",
     "text": [
      "dict_items([('Sam', 12), ('Deyam', 23), ('Srikanth', 34), ('Harry', 11)])\n"
     ]
    }
   ],
   "source": [
    "print(temp_dict6.items())"
   ]
  },
  {
   "cell_type": "code",
   "execution_count": 11,
   "metadata": {},
   "outputs": [
    {
     "name": "stdout",
     "output_type": "stream",
     "text": [
      "{'Sam': 12, 'Deyam': 123, 'Srikanth': 34, 'Harry': 11, 'Subbulu': 1234}\n"
     ]
    }
   ],
   "source": [
    "temp_dict6.update([('Deyam',123),('Subbulu',1234)])\n",
    "print(temp_dict6)"
   ]
  },
  {
   "cell_type": "code",
   "execution_count": 12,
   "metadata": {},
   "outputs": [
    {
     "name": "stdout",
     "output_type": "stream",
     "text": [
      "{'Sam': 12, 'Deyam': 123, 'Srikanth': 34, 'Subbulu': 1234}\n",
      "11\n"
     ]
    }
   ],
   "source": [
    "marks = temp_dict6.pop('Harry')\n",
    "print(temp_dict6)\n",
    "print(marks)"
   ]
  },
  {
   "cell_type": "code",
   "execution_count": 13,
   "metadata": {},
   "outputs": [
    {
     "name": "stdout",
     "output_type": "stream",
     "text": [
      "{'Deyam': 123, 'Srikanth': 34, 'Subbulu': 1234}\n"
     ]
    }
   ],
   "source": [
    "del temp_dict6['Sam']\n",
    "print(temp_dict6)"
   ]
  },
  {
   "cell_type": "code",
   "execution_count": 14,
   "metadata": {},
   "outputs": [
    {
     "name": "stdout",
     "output_type": "stream",
     "text": [
      "{}\n"
     ]
    }
   ],
   "source": [
    "temp_dict6.clear()\n",
    "print(temp_dict6)"
   ]
  },
  {
   "cell_type": "code",
   "execution_count": 21,
   "metadata": {},
   "outputs": [],
   "source": [
    "def findWordsWithFreqAtleastK(words,k):\n",
    "    freq = dict()\n",
    "\n",
    "    for word in words:\n",
    "        if not freq.get(word, None):\n",
    "            freq[word] = 1\n",
    "        else:\n",
    "            freq[word] += 1\n",
    "\n",
    "    ans = []\n",
    "\n",
    "    for key in freq.keys():\n",
    "        if freq[key] >= k:\n",
    "            ans.append(key)\n",
    "        \n",
    "    return ans"
   ]
  },
  {
   "cell_type": "code",
   "execution_count": 22,
   "metadata": {},
   "outputs": [
    {
     "name": "stdout",
     "output_type": "stream",
     "text": [
      "['cat', 'lion']\n"
     ]
    }
   ],
   "source": [
    "print(findWordsWithFreqAtleastK(['cat','dog','camel','cat','lion','lion'],2))"
   ]
  },
  {
   "cell_type": "code",
   "execution_count": null,
   "metadata": {},
   "outputs": [],
   "source": [
    "def pair_sum(arr, target):\n",
    "    freq = dict()\n",
    "    ans = 0\n",
    "\n",
    "    for num in arr:\n",
    "        expect = target - num\n",
    "        ans += freq.get(expect,0)\n",
    "\n",
    "        if freq.get(num,0):\n",
    "            freq[num] += 1\n",
    "        else:\n",
    "            freq[num] = 1\n",
    "    return ans\n",
    "\n",
    "if __name__ == '__main__':\n",
    "    print(pair_sum([2,3,1,2,2,3,1,1],4))"
   ]
  },
  {
   "cell_type": "code",
   "execution_count": null,
   "metadata": {},
   "outputs": [],
   "source": []
  }
 ],
 "metadata": {
  "kernelspec": {
   "display_name": "base",
   "language": "python",
   "name": "python3"
  },
  "language_info": {
   "codemirror_mode": {
    "name": "ipython",
    "version": 3
   },
   "file_extension": ".py",
   "mimetype": "text/x-python",
   "name": "python",
   "nbconvert_exporter": "python",
   "pygments_lexer": "ipython3",
   "version": "3.11.5"
  }
 },
 "nbformat": 4,
 "nbformat_minor": 2
}
